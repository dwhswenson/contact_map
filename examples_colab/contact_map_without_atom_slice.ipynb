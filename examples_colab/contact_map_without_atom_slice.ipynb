{
 "cells": [
  {
   "cell_type": "markdown",
   "metadata": {},
   "source": [
    "# Installation\n",
    "\n",
    "This cell will install contact-map and download the required files into the google colab worker. It will take up to 5 minutes."
   ]
  },
  {
   "cell_type": "code",
   "execution_count": null,
   "metadata": {},
   "outputs": [],
   "source": [
    "#Install contact map\n",
    "!pip install contact-map\n",
    "\n",
    "# Grab the data for this example\n",
    "!curl -Lk -o 5550217.zip https://ndownloader.figshare.com/articles/5550217?private_link=453b1b215cf2f9270769\n",
    "!unzip -d 5550217 5550217.zip"
   ]
  },
  {
   "cell_type": "markdown",
   "metadata": {},
   "source": [
    "# Contact Maps without atom slice\n",
    "The contact map classes use an equivalent to `mdtraj.atom_slice()` to cut down the trajectory or frame to only contain atoms that are part of either the query or haystack. It does not use this optimization if there are no atoms to be slices. \n",
    "This is more performant for most real world cases, as we tested it for a protein system without water (only hydrogens are sliced) and a system of only tip4p water (hydrogens and dummy atoms are sliced away). \n",
    "It does involve some overhead mainly consisting of the mapping of sliced indices back to the real indices after the contactmap or frequency has been calculated. This overhead could be significant in the case where the resulting contactmap/frequency is dense (resulting in a lot of keys to be mapped) and very little is sliced away (triggering the optimization).\n",
    "\n",
    "This notebook will show such a worst case scenario and how to disable this optimization.\n"
   ]
  },
  {
   "cell_type": "markdown",
   "metadata": {},
   "source": [
    "## The worst case example\n",
    "This is only adding a noticeable overhead for `ContactMap` in this case, but this could be worse for other systems"
   ]
  },
  {
   "cell_type": "code",
   "execution_count": 1,
   "metadata": {},
   "outputs": [],
   "source": [
    "%matplotlib inline\n",
    "import matplotlib.pyplot as plt\n",
    "import mdtraj as md\n",
    "traj = md.load(\"5550217/kras.xtc\", top=\"5550217/kras.pdb\")\n",
    "topology = traj.topology"
   ]
  },
  {
   "cell_type": "code",
   "execution_count": 2,
   "metadata": {},
   "outputs": [],
   "source": [
    "from contact_map import ContactMap, ContactFrequency, ContactDifference"
   ]
  },
  {
   "cell_type": "code",
   "execution_count": 3,
   "metadata": {},
   "outputs": [],
   "source": [
    "# Select all atoms\n",
    "atoms = range(topology.n_atoms)\n",
    "\n",
    "# Slice away a single atom so the optimization is triggered\n",
    "used_atoms = atoms [1:]"
   ]
  },
  {
   "cell_type": "code",
   "execution_count": 4,
   "metadata": {
    "scrolled": true
   },
   "outputs": [
    {
     "name": "stdout",
     "output_type": "stream",
     "text": [
      "CPU times: user 824 ms, sys: 48 ms, total: 872 ms\n",
      "Wall time: 291 ms\n"
     ]
    }
   ],
   "source": [
    "%%time\n",
    "frame_contacts = ContactMap(traj[0], query=used_atoms, haystack=used_atoms)"
   ]
  },
  {
   "cell_type": "code",
   "execution_count": 5,
   "metadata": {},
   "outputs": [
    {
     "name": "stdout",
     "output_type": "stream",
     "text": [
      "CPU times: user 1min 12s, sys: 3.28 s, total: 1min 16s\n",
      "Wall time: 20.6 s\n"
     ]
    }
   ],
   "source": [
    "%%time\n",
    "trajectory_contacts = ContactFrequency(traj, query=used_atoms, \n",
    "                                       haystack=used_atoms)"
   ]
  },
  {
   "cell_type": "code",
   "execution_count": 6,
   "metadata": {},
   "outputs": [
    {
     "data": {
      "text/plain": [
       "True"
      ]
     },
     "execution_count": 6,
     "metadata": {},
     "output_type": "execute_result"
    }
   ],
   "source": [
    "# Check if the optimization was triggered\n",
    "trajectory_contacts.use_atom_slice"
   ]
  },
  {
   "cell_type": "markdown",
   "metadata": {},
   "source": [
    "## Disabling  `use_atom_slice`\n",
    "\n",
    "The default for `use_atom_slice` is take from the class variables, to disable `use_atom_slice` set `class._class_use_atom_slice = False`"
   ]
  },
  {
   "cell_type": "code",
   "execution_count": 7,
   "metadata": {},
   "outputs": [],
   "source": [
    "ContactMap._class_use_atom_slice = False\n",
    "ContactFrequency._class_use_atom_slice = False\n",
    "ContactDifference._class_use_atom_slice = False"
   ]
  },
  {
   "cell_type": "code",
   "execution_count": 8,
   "metadata": {
    "scrolled": true
   },
   "outputs": [
    {
     "name": "stdout",
     "output_type": "stream",
     "text": [
      "CPU times: user 668 ms, sys: 20 ms, total: 688 ms\n",
      "Wall time: 204 ms\n"
     ]
    }
   ],
   "source": [
    "%%time\n",
    "frame_contacts = ContactMap(traj[0], query=used_atoms, haystack=used_atoms)"
   ]
  },
  {
   "cell_type": "code",
   "execution_count": 9,
   "metadata": {},
   "outputs": [
    {
     "name": "stdout",
     "output_type": "stream",
     "text": [
      "CPU times: user 1min 12s, sys: 3.42 s, total: 1min 15s\n",
      "Wall time: 21.1 s\n"
     ]
    }
   ],
   "source": [
    "%%time\n",
    "trajectory_contacts = ContactFrequency(traj, query=used_atoms, \n",
    "                                       haystack=used_atoms)"
   ]
  },
  {
   "cell_type": "code",
   "execution_count": 10,
   "metadata": {},
   "outputs": [
    {
     "data": {
      "text/plain": [
       "False"
      ]
     },
     "execution_count": 10,
     "metadata": {},
     "output_type": "execute_result"
    }
   ],
   "source": [
    "trajectory_contacts.use_atom_slice"
   ]
  },
  {
   "cell_type": "markdown",
   "metadata": {},
   "source": [
    "## Speedup on a real use case\n",
    "\n",
    "So the example where both the query and haystack are defined, would be an example of a real world case. Lets see what the slowdown would be if we did not use `atoms_slice` "
   ]
  },
  {
   "cell_type": "code",
   "execution_count": 25,
   "metadata": {},
   "outputs": [],
   "source": [
    "switch1 = topology.select(\"resSeq 32 to 38 and symbol != 'H'\")\n",
    "cations = topology.select(\"resname NA or resname MG\")\n"
   ]
  },
  {
   "cell_type": "code",
   "execution_count": 26,
   "metadata": {},
   "outputs": [],
   "source": [
    "# Set class_atom_slice to True\n",
    "ContactMap._class_use_atom_slice = True\n",
    "ContactFrequency._class_use_atom_slice = True\n",
    "ContactDifference._class_use_atom_slice = True"
   ]
  },
  {
   "cell_type": "code",
   "execution_count": 27,
   "metadata": {},
   "outputs": [
    {
     "name": "stdout",
     "output_type": "stream",
     "text": [
      "CPU times: user 536 ms, sys: 32 ms, total: 568 ms\n",
      "Wall time: 167 ms\n"
     ]
    }
   ],
   "source": [
    "%%time\n",
    "cations_switch1 = ContactFrequency(trajectory=traj, query=cations, haystack=switch1)"
   ]
  },
  {
   "cell_type": "code",
   "execution_count": 28,
   "metadata": {},
   "outputs": [],
   "source": [
    "# Set class_atom_slice to False\n",
    "ContactMap._class_use_atom_slice = False\n",
    "ContactFrequency._class_use_atom_slice = False\n",
    "ContactDifference._class_use_atom_slice = False"
   ]
  },
  {
   "cell_type": "code",
   "execution_count": 29,
   "metadata": {},
   "outputs": [
    {
     "name": "stdout",
     "output_type": "stream",
     "text": [
      "CPU times: user 7.35 s, sys: 316 ms, total: 7.66 s\n",
      "Wall time: 1.99 s\n"
     ]
    }
   ],
   "source": [
    "%%time\n",
    "cations_switch1 = ContactFrequency(trajectory=traj, query=cations, haystack=switch1)"
   ]
  }
 ],
 "metadata": {
  "kernelspec": {
   "display_name": "Python 3",
   "language": "python",
   "name": "python3"
  },
  "language_info": {
   "codemirror_mode": {
    "name": "ipython",
    "version": 3
   },
   "file_extension": ".py",
   "mimetype": "text/x-python",
   "name": "python",
   "nbconvert_exporter": "python",
   "pygments_lexer": "ipython3",
   "version": "3.7.3"
  }
 },
 "nbformat": 4,
 "nbformat_minor": 1
}
